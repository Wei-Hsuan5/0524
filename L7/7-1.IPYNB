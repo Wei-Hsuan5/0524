{
 "cells": [
  {
   "cell_type": "code",
   "execution_count": null,
   "id": "5cf12d78",
   "metadata": {},
   "outputs": [
    {
     "name": "stdout",
     "output_type": "stream",
     "text": [
      "19.233560749020178\n",
      "正常\n"
     ]
    }
   ],
   "source": [
    "def calculate_bmi(h:int,w:int)->float:\n",
    "   return w / (h /100)**2\n",
    "\n",
    "def get_state(b: float)->str:\n",
    "   if b < 18.5:\n",
    "      return \"過輕\"\n",
    "   elif b < 24:\n",
    "      return\"正常\"\n",
    "   elif b < 27:\n",
    "      return \"過重\"\n",
    "   elif b < 30:\n",
    "      return \"輕度肥胖\"\n",
    "   else:\n",
    "      return \"重度肥胖\"\n",
    "\n",
    "# height:int=int(input(\"身高(cm):\"))\n",
    "# weight:int=int(input(\"體重(kg):\"))\n",
    "\n",
    "# bmi=calculate_bmi(height, weight)\n",
    "# print(bmi)\n",
    "# print(get_state(bmi))\n",
    "\n",
    "\n"
   ]
  },
  {
   "cell_type": "code",
   "execution_count": 1,
   "id": "5602108a",
   "metadata": {},
   "outputs": [
    {
     "data": {
      "text/plain": [
       "{'__name__': '__main__',\n",
       " '__doc__': 'Automatically created module for IPython interactive environment',\n",
       " '__package__': None,\n",
       " '__loader__': None,\n",
       " '__spec__': None,\n",
       " '__builtin__': <module 'builtins' (built-in)>,\n",
       " '__builtins__': <module 'builtins' (built-in)>,\n",
       " '_ih': ['', 'vars()'],\n",
       " '_oh': {},\n",
       " '_dh': [WindowsPath('c:/Users/User/Downloads/0524/L7/0524/L7')],\n",
       " 'In': ['', 'vars()'],\n",
       " 'Out': {},\n",
       " 'get_ipython': <bound method InteractiveShell.get_ipython of <ipykernel.zmqshell.ZMQInteractiveShell object at 0x0000024594FC3670>>,\n",
       " 'exit': <IPython.core.autocall.ZMQExitAutocall at 0x24595014160>,\n",
       " 'quit': <IPython.core.autocall.ZMQExitAutocall at 0x24595014160>,\n",
       " 'open': <function io.open(file, mode='r', buffering=-1, encoding=None, errors=None, newline=None, closefd=True, opener=None)>,\n",
       " '_': '',\n",
       " '__': '',\n",
       " '___': '',\n",
       " '__vsc_ipynb_file__': 'c:\\\\Users\\\\User\\\\Downloads\\\\0524\\\\L7\\\\0524\\\\L7\\\\7-1.IPYNB',\n",
       " '_i': '',\n",
       " '_ii': '',\n",
       " '_iii': '',\n",
       " '_i1': 'vars()'}"
      ]
     },
     "execution_count": 1,
     "metadata": {},
     "output_type": "execute_result"
    }
   ],
   "source": [
    "vars()"
   ]
  }
 ],
 "metadata": {
  "kernelspec": {
   "display_name": "chillee1",
   "language": "python",
   "name": "python3"
  },
  "language_info": {
   "codemirror_mode": {
    "name": "ipython",
    "version": 3
   },
   "file_extension": ".py",
   "mimetype": "text/x-python",
   "name": "python",
   "nbconvert_exporter": "python",
   "pygments_lexer": "ipython3",
   "version": "3.10.16"
  }
 },
 "nbformat": 4,
 "nbformat_minor": 5
}
