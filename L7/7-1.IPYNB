{
 "cells": [
  {
   "cell_type": "code",
   "execution_count": 1,
   "id": "5cf12d78",
   "metadata": {},
   "outputs": [
    {
     "name": "stdout",
     "output_type": "stream",
     "text": [
      "19.233560749020178\n",
      "正常\n"
     ]
    }
   ],
   "source": [
    "def calculate_bmi(h:int,w:int)->float:\n",
    "   return w / (h /100)**2\n",
    "\n",
    "def get_state(b: float)->str:\n",
    "   if b < 18.5:\n",
    "      return \"過輕\"\n",
    "   elif b < 24:\n",
    "      return\"正常\"\n",
    "   elif b < 27:\n",
    "      return \"過重\"\n",
    "   elif b < 30:\n",
    "      return \"輕度肥胖\"\n",
    "   else:\n",
    "      return \"重度肥胖\"\n",
    "\n",
    "height:int=int(input(\"身高(cm):\"))\n",
    "weight:int=int(input(\"體重(kg):\"))\n",
    "\n",
    "bmi=calculate_bmi(height, weight)\n",
    "print(bmi)\n",
    "print(get_state(bmi))\n",
    "\n"
   ]
  }
 ],
 "metadata": {
  "kernelspec": {
   "display_name": "base",
   "language": "python",
   "name": "python3"
  },
  "language_info": {
   "codemirror_mode": {
    "name": "ipython",
    "version": 3
   },
   "file_extension": ".py",
   "mimetype": "text/x-python",
   "name": "python",
   "nbconvert_exporter": "python",
   "pygments_lexer": "ipython3",
   "version": "3.13.2"
  }
 },
 "nbformat": 4,
 "nbformat_minor": 5
}
