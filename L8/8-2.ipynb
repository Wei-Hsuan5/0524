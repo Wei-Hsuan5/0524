{
 "cells": [
  {
   "cell_type": "markdown",
   "id": "da23f11f",
   "metadata": {},
   "source": [
    "### 如何呼叫Function"
   ]
  },
  {
   "cell_type": "code",
   "execution_count": 2,
   "id": "49d48b19",
   "metadata": {},
   "outputs": [],
   "source": [
    "def receipe(Gin:str,Tonic:str,Soju:str)->None:\n",
    "    print(f\"基酒1:{Gin}\")\n",
    "    print(f\"元素:{Tonic}\")\n",
    "    print(f\"基酒2:{Soju}\")"
   ]
  },
  {
   "cell_type": "markdown",
   "id": "ea3426e5",
   "metadata": {},
   "source": [
    "### 引數值呼叫\n",
    "- 需依照參數順序"
   ]
  },
  {
   "cell_type": "code",
   "execution_count": 3,
   "id": "54e76cff",
   "metadata": {},
   "outputs": [
    {
     "name": "stdout",
     "output_type": "stream",
     "text": [
      "基酒1:琴酒\n",
      "元素:通寧水\n",
      "基酒2:燒酒\n"
     ]
    }
   ],
   "source": [
    "receipe(\"琴酒\",\"通寧水\",\"燒酒\")"
   ]
  }
 ],
 "metadata": {
  "kernelspec": {
   "display_name": "chillee1",
   "language": "python",
   "name": "python3"
  },
  "language_info": {
   "codemirror_mode": {
    "name": "ipython",
    "version": 3
   },
   "file_extension": ".py",
   "mimetype": "text/x-python",
   "name": "python",
   "nbconvert_exporter": "python",
   "pygments_lexer": "ipython3",
   "version": "3.10.16"
  }
 },
 "nbformat": 4,
 "nbformat_minor": 5
}
