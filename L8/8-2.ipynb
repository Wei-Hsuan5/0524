{
 "cells": [
  {
   "cell_type": "markdown",
   "id": "da23f11f",
   "metadata": {},
   "source": [
    "### 如何呼叫Function"
   ]
  },
  {
   "cell_type": "code",
   "execution_count": null,
   "id": "49d48b19",
   "metadata": {},
   "outputs": [],
   "source": [
    "def receipe(Gin:str,Tonic:str,Soju:str)->None:\n",
    "    print(f\"基酒1:{Gin}\")\n",
    "    print(f\"元素:{Tonic}\")\n",
    "    print(f\"基酒2:{Soju}\")"
   ]
  },
  {
   "cell_type": "markdown",
   "id": "ea3426e5",
   "metadata": {},
   "source": [
    "### 引數值呼叫\n",
    "- 需依照參數順序"
   ]
  },
  {
   "cell_type": "code",
   "execution_count": 3,
   "id": "54e76cff",
   "metadata": {},
   "outputs": [
    {
     "name": "stdout",
     "output_type": "stream",
     "text": [
      "基酒1:琴酒\n",
      "元素:通寧水\n",
      "基酒2:燒酒\n"
     ]
    }
   ],
   "source": [
    "receipe(\"琴酒\",\"通寧水\",\"燒酒\")"
   ]
  },
  {
   "cell_type": "markdown",
   "id": "4e290330",
   "metadata": {},
   "source": [
    "### 引述\"名稱\"呼叫\n",
    "- 可不依序\n",
    "- 有def值"
   ]
  },
  {
   "cell_type": "code",
   "execution_count": 6,
   "id": "bb93b18c",
   "metadata": {},
   "outputs": [
    {
     "name": "stdout",
     "output_type": "stream",
     "text": [
      "基酒1:琴酒\n",
      "元素:通寧水\n",
      "基酒2:燒酒\n"
     ]
    }
   ],
   "source": [
    "receipe(Tonic='通寧水',Gin='琴酒',Soju='燒酒')"
   ]
  },
  {
   "cell_type": "markdown",
   "id": "52da8a47",
   "metadata": {},
   "source": [
    "### 混和呼叫\n",
    "- 前: 使用引數值\n",
    "- 後: 使用引數名稱\n",
    "- 名稱後皆需全使用引數名稱\n"
   ]
  },
  {
   "cell_type": "code",
   "execution_count": 5,
   "id": "2c511ca6",
   "metadata": {},
   "outputs": [
    {
     "name": "stdout",
     "output_type": "stream",
     "text": [
      "基酒1:琴酒\n",
      "元素:通寧水\n",
      "基酒2:燒酒\n"
     ]
    }
   ],
   "source": [
    "receipe('琴酒',Soju='燒酒',Tonic='通寧水')"
   ]
  },
  {
   "cell_type": "markdown",
   "id": "ab5172d6",
   "metadata": {},
   "source": [
    "### 定義的function參數，可以有預設值\n",
    "- 預設值必放最後"
   ]
  },
  {
   "cell_type": "code",
   "execution_count": null,
   "id": "129d54d1",
   "metadata": {},
   "outputs": [],
   "source": [
    "def receipe(Gin:str,Tonic:str,Soju:str='燒啤')->None:\n",
    "    print(f\"基酒1:{Gin}\")\n",
    "    print(f\"元素:{Tonic}\")\n",
    "    print(f\"基酒2:{Soju}\")"
   ]
  },
  {
   "cell_type": "markdown",
   "id": "6d26f4e4",
   "metadata": {},
   "source": [
    "### 呼叫時有預設值的參數，可省略引數值\n",
    "- 預設值一定放最後"
   ]
  },
  {
   "cell_type": "code",
   "execution_count": 7,
   "id": "fa076724",
   "metadata": {},
   "outputs": [
    {
     "name": "stdout",
     "output_type": "stream",
     "text": [
      "基酒1:琴酒\n",
      "元素:通寧水\n",
      "基酒2:燒啤\n"
     ]
    }
   ],
   "source": [
    "receipe('琴酒',\"通寧水\",\"燒啤\")"
   ]
  },
  {
   "cell_type": "code",
   "execution_count": 8,
   "id": "3640bf3e",
   "metadata": {},
   "outputs": [
    {
     "name": "stdout",
     "output_type": "stream",
     "text": [
      "基酒1:琴酒\n",
      "元素:通寧水\n",
      "基酒2:燒啤\n"
     ]
    }
   ],
   "source": [
    "receipe('琴酒',\"通寧水\",Soju=\"燒啤\")"
   ]
  }
 ],
 "metadata": {
  "kernelspec": {
   "display_name": "chillee1",
   "language": "python",
   "name": "python3"
  },
  "language_info": {
   "codemirror_mode": {
    "name": "ipython",
    "version": 3
   },
   "file_extension": ".py",
   "mimetype": "text/x-python",
   "name": "python",
   "nbconvert_exporter": "python",
   "pygments_lexer": "ipython3",
   "version": "3.10.16"
  }
 },
 "nbformat": 4,
 "nbformat_minor": 5
}
